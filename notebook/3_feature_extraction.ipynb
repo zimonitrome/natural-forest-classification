{
 "cells": [
  {
   "cell_type": "markdown",
   "metadata": {},
   "source": [
    "Load sample areas with raw data from file."
   ]
  },
  {
   "cell_type": "code",
   "execution_count": 9,
   "metadata": {},
   "outputs": [],
   "source": [
    "import numpy as np\n",
    "import nfhelpers as nf\n",
    "import scipy.stats as st\n",
    "\n",
    "sampleAreas_training = np.load(\"numpy_objects/training_data_set.npy\")\n",
    "sampleAreas_testing = np.load(\"numpy_objects/holdout_data_set.npy\")\n",
    "sampleAreas = np.concatenate((sampleAreas_training, sampleAreas_testing))"
   ]
  },
  {
   "cell_type": "markdown",
   "metadata": {},
   "source": [
    "---------\n",
    "Extract features."
   ]
  },
  {
   "cell_type": "code",
   "execution_count": 32,
   "metadata": {},
   "outputs": [
    {
     "data": {
      "application/vnd.jupyter.widget-view+json": {
       "model_id": "7a06d7fed7424bce9529407b759e7812",
       "version_major": 2,
       "version_minor": 0
      },
      "text/plain": [
       "HBox(children=(IntProgress(value=0, max=2882), HTML(value='')))"
      ]
     },
     "metadata": {},
     "output_type": "display_data"
    },
    {
     "name": "stderr",
     "output_type": "stream",
     "text": [
      "C:\\Users\\Simon\\Anaconda3\\lib\\site-packages\\ipykernel_launcher.py:33: RuntimeWarning: invalid value encountered in greater\n"
     ]
    },
    {
     "name": "stdout",
     "output_type": "stream",
     "text": [
      "done!\n"
     ]
    }
   ],
   "source": [
    "import tqdm\n",
    "from skimage import filters\n",
    "from skimage import img_as_float\n",
    "from skimage.feature import peak_local_max\n",
    "import math\n",
    "import matplotlib.pyplot as plt\n",
    "import scipy.ndimage as ndi\n",
    "import scipy.spatial as spt\n",
    "import astropy.stats as ast\n",
    "import cv2\n",
    "\n",
    "pbar = tqdm.tqdm_notebook(total=len(sampleAreas))\n",
    "\n",
    "short_name = {\n",
    "    \"height\": \"H\",\n",
    "    \"crown_coverage\": \"CC\",\n",
    "    \"basal_area\": \"BA\",\n",
    "    \"mean_diameter\": \"MD\",\n",
    "    \"biomass\": \"BM\",\n",
    "    \"volume\": \"V\",\n",
    "    \"upper_height\": \"UH\",\n",
    "    \"mean_height\": \"MH\"\n",
    "}\n",
    "\n",
    "for sampleArea in sampleAreas:\n",
    "    for raster_name in sampleArea.rasters:\n",
    "        for radius in sampleArea.rasters[raster_name]:\n",
    "            data = sampleArea.rasters[raster_name][radius]\n",
    "            \n",
    "            if raster_name == \"height_smoothed\":\n",
    "                # Remove data below Otsu threshold\n",
    "                no_nan_data = list(filter(lambda value: not math.isnan(value), data.flatten()))\n",
    "                threshold_mask = data > 10.2 # custom value proven to be better for this data\n",
    "                thresholded_data = np.array(data)\n",
    "                thresholded_data[~threshold_mask] = None\n",
    "\n",
    "                # Extract tree tops\n",
    "                data_floats = img_as_float(thresholded_data)\n",
    "                tree_tops = peak_local_max(np.nan_to_num(data_floats), min_distance=3) # 3 = 0.75 m\n",
    "                sampleArea.features[f\"tops.number.{radius}\"] = len(tree_tops)\n",
    "\n",
    "                if len(tree_tops) > 1:\n",
    "                    # Tree tops nearest neighbors \n",
    "                    kd_tree = spt.KDTree(tree_tops)\n",
    "                    distances, _ = kd_tree.query(tree_tops, min(len(tree_tops), 2) ) # gets distances for itself and nearest neightbor\n",
    "                    distances = distances[:, 1:] / 4 # remove distance to self, only include nearest neighbor, divide by 4 to get value in meters (since each pixel is 0.25 meters)\n",
    "                    sampleArea.features[f\"nndist.mean.{radius}\"] = np.mean(distances)\n",
    "                    sampleArea.features[f\"nndist.sd.{radius}\"] = np.std(distances)\n",
    "\n",
    "                    # Number of tree tops within 5 meters \n",
    "                    neighbors_withing_5_m = kd_tree.query_ball_point(tree_tops, 5*4)\n",
    "                    n_neighbors_withing_5_m = list(map(lambda neighbors: len(neighbors)-1, neighbors_withing_5_m)) # remove self from neighbor list and get length\n",
    "                    sampleArea.features[f\"n5m.mean.{radius}\"] = np.mean(n_neighbors_withing_5_m)\n",
    "                    sampleArea.features[f\"n5m.sd.{radius}\"] = np.std(n_neighbors_withing_5_m)\n",
    "\n",
    "                    # Number of tree tops within 10 meters\n",
    "                    neighbors_withing_10_m = kd_tree.query_ball_point(tree_tops, 10*4)\n",
    "                    n_neighbors_withing_10_m = list(map(lambda neighbors: len(neighbors)-1, neighbors_withing_10_m)) # remove self from neighbor list and get length\n",
    "                    sampleArea.features[f\"n10m.mean.{radius}\"] = np.mean(n_neighbors_withing_10_m)\n",
    "                    sampleArea.features[f\"n10m.sd.{radius}\"] = np.std(n_neighbors_withing_10_m)\n",
    "\n",
    "                    # Ripley's K\n",
    "                    rk_est = ast.RipleysKEstimator(area=math.pi*math.pow((radius*4), 2), x_max=np.inf, y_max=np.inf, x_min=0, y_min=0)\n",
    "                    rk_est_vals = rk_est(data=tree_tops, radii=range(0, 10*4+1, 4), mode='ripley')\n",
    "                    for k, k_val in enumerate(rk_est_vals):\n",
    "                        sampleArea.features[f\"K.{k}.{radius}\"] = k_val\n",
    "                else:\n",
    "                    # Currently uses -1 as none value for nearest neighbor distance\n",
    "                    sampleArea.features[f\"nndist.mean.{radius}\"] = -1\n",
    "                    sampleArea.features[f\"nndist.sd.{radius}\"] = -1\n",
    "                    sampleArea.features[f\"n5m.mean.{radius}\"] = 0\n",
    "                    sampleArea.features[f\"n5m.sd.{radius}\"] = 0\n",
    "                    sampleArea.features[f\"n10m.mean.{radius}\"] = 0\n",
    "                    sampleArea.features[f\"n10m.sd.{radius}\"] = 0\n",
    "                    for k in range(10+1):\n",
    "                        sampleArea.features[f\"K.{k}.{radius}\"] = 0\n",
    "                \n",
    "                # Tree crown segmentation\n",
    "                if len(tree_tops) > 0:\n",
    "                    ws_markers = np.ones_like(data)\n",
    "                    ws_markers[threshold_mask == 1] = 0\n",
    "                    for index, coord in enumerate(tree_tops):\n",
    "                        ws_markers[coord[0], coord[1]] = index+2\n",
    "                    img = np.stack((thresholded_data,)*3, axis=-1).astype(np.uint8)\n",
    "                    segments = cv2.watershed(img, ws_markers.astype(np.int32))\n",
    "                    unique, counts = np.unique(segments, return_counts=True)\n",
    "                    crowns = dict(zip(unique, counts))\n",
    "                    most_common_val = max(crowns, key=crowns.get)\n",
    "                    crowns.pop(-1) # Removes lines between segments\n",
    "                    crowns.pop(most_common_val) # Remove surrounding segment\n",
    "                    crown_areas = list(filter(lambda size: size > 2, [crowns[key] for key in crowns]))\n",
    "                    n_crowns = len(crown_areas)\n",
    "                    sampleArea.features[f\"crown.area.mean.{radius}\"] = np.mean(crown_areas) if n_crowns else 0\n",
    "                    sampleArea.features[f\"crown.area.sd.{radius}\"] = np.std(crown_areas) if n_crowns else 0\n",
    "                    sampleArea.features[f\"crown.area.sum.{radius}\"] = np.sum(crown_areas) if n_crowns else 0\n",
    "                else:\n",
    "                    sampleArea.features[f\"crown.area.mean.{radius}\"] = 0\n",
    "                    sampleArea.features[f\"crown.area.sd.{radius}\"] = 0\n",
    "                    sampleArea.features[f\"crown.area.sum.{radius}\"] = 0\n",
    "\n",
    "                # Gaps\n",
    "                kernel = nf.create_circular_mask(4, 4, (1.5, 1.5), 2).astype(np.uint8)\n",
    "                tempdata = np.array(data)\n",
    "                tempdata[np.isnan(tempdata)] = 10\n",
    "\n",
    "                # Gaps over 3m\n",
    "                over_3m_mask = ~(tempdata > 30) # Value \"30\" is in decimeters\n",
    "                opening_3m = cv2.morphologyEx(over_3m_mask.astype(np.uint8), cv2.MORPH_OPEN, kernel) # Open (descriminate/make smaller) the gaps\n",
    "                labeled_3m, _ = ndi.label(opening_3m.astype(bool)) # Select contained gaps\n",
    "                labeled_3m[opening_3m == 0] = 1 # Remove gaps stretching out of the area (seen as background)\n",
    "                _, gap_count_3m = np.unique(labeled_3m, return_counts=True)\n",
    "                gaps_3m = gap_count_3m[1:]\n",
    "                n_gaps_3m = len(gaps_3m)\n",
    "                sampleArea.features[f\"gap3m.number.{radius}\"] = n_gaps_3m\n",
    "                sampleArea.features[f\"gap3m.mean.{radius}\"] = np.mean(gaps_3m) if n_gaps_3m else 0\n",
    "                sampleArea.features[f\"gap3m.sd.{radius}\"] = np.std(gaps_3m) if n_gaps_3m else 0\n",
    "                sampleArea.features[f\"gap3m.sum.{radius}\"] = np.sum(gaps_3m) if n_gaps_3m else 0\n",
    "\n",
    "                # Gaps over 5m\n",
    "                over_5m_mask = ~(tempdata > 50) # Value \"50\" is in decimeters\n",
    "                opening_5m = cv2.morphologyEx(over_5m_mask.astype(np.uint8), cv2.MORPH_OPEN, kernel) # Open (descriminate/make smaller) the gaps\n",
    "                labeled_5m, _ = ndi.label(opening_5m.astype(bool)) # Select contained gaps\n",
    "                labeled_5m[opening_5m == 0] = 1 # Remove gaps stretching out of the area (seen as background)\n",
    "                _, gap_count_5m = np.unique( labeled_5m, return_counts=True)\n",
    "                gaps_5m = gap_count_5m[1:]\n",
    "                n_gaps_5m = len(gaps_5m)\n",
    "                sampleArea.features[f\"gap5m.number.{radius}\"] = n_gaps_5m\n",
    "                sampleArea.features[f\"gap5m.mean.{radius}\"] = np.mean(gaps_5m) if n_gaps_5m else 0\n",
    "                sampleArea.features[f\"gap5m.sd.{radius}\"] = np.std(gaps_5m) if n_gaps_5m else 0\n",
    "                sampleArea.features[f\"gap5m.sum.{radius}\"] = np.sum(gaps_5m) if n_gaps_5m else 0\n",
    "                \n",
    "            else:\n",
    "\n",
    "                raster_short_name = short_name[raster_name]\n",
    "                \n",
    "                sampleArea.features[f\"{raster_short_name}.mean.{radius}\"] = np.mean(data)\n",
    "                sampleArea.features[f\"{raster_short_name}.median.{radius}\"] = np.median(data)\n",
    "                sampleArea.features[f\"{raster_short_name}.max.{radius}\"] = np.amax(data)\n",
    "                sampleArea.features[f\"{raster_short_name}.min.{radius}\"] = np.amin(data)\n",
    "                sampleArea.features[f\"{raster_short_name}.sd.{radius}\"] = np.std(data)\n",
    "                sampleArea.features[f\"{raster_short_name}.skew.{radius}\"] = st.skew(data)\n",
    "                sampleArea.features[f\"{raster_short_name}.kurt.{radius}\"] = st.kurtosis(data)\n",
    "                sampleArea.features[f\"{raster_short_name}.cv.{radius}\"] = st.variation(data)\n",
    "\n",
    "                if raster_name == \"height\":\n",
    "                    heights_over_2m = list(filter(lambda x: x >= 20, data)) # Value \"20\" is in decimeters\n",
    "                    for percentile in range(10,100+1,10):\n",
    "                        if len(heights_over_2m) > 0:\n",
    "                            sampleArea.features[f\"{raster_short_name}.{percentile}.{radius}\"] = np.percentile(heights_over_2m, percentile)\n",
    "                        else:\n",
    "                            sampleArea.features[f\"{raster_short_name}.{percentile}.{radius}\"] = None\n",
    "                            \n",
    "    # Clear raster data from object\n",
    "    sampleArea.rasters = {}\n",
    "    pbar.update(1)\n",
    "\n",
    "print(\"done!\")"
   ]
  },
  {
   "cell_type": "code",
   "execution_count": 33,
   "metadata": {},
   "outputs": [],
   "source": [
    "np.save(\"numpy_objects/training_data_set_with_features\", sampleAreas_training)\n",
    "np.save(\"numpy_objects/testing_data_set_with_features\", sampleAreas_testing)"
   ]
  },
  {
   "cell_type": "code",
   "execution_count": null,
   "metadata": {},
   "outputs": [],
   "source": []
  }
 ],
 "metadata": {
  "kernelspec": {
   "display_name": "Python 3",
   "language": "python",
   "name": "python3"
  },
  "language_info": {
   "codemirror_mode": {
    "name": "ipython",
    "version": 3
   },
   "file_extension": ".py",
   "mimetype": "text/x-python",
   "name": "python",
   "nbconvert_exporter": "python",
   "pygments_lexer": "ipython3",
   "version": "3.7.1"
  }
 },
 "nbformat": 4,
 "nbformat_minor": 2
}
