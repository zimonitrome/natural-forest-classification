{
 "cells": [
  {
   "cell_type": "markdown",
   "metadata": {},
   "source": [
    "(Simon, om du ser detta och det är fel, rätta till och förklara som att jag vore 4 år. Tack i förhand.)\n",
    "\n",
    "Lite notes för Marcus om han/jag upplevs i ett trögare tillstånd:\n",
    "1. En raster är en bild (ALS bild i vårt fall), därav blir varje \"raster\" ett nytt lager med features som vi kan leka med.\n",
    "2. En evalutation-area är ett \"frimärke\", en sample-area är en punkt (som nästan alltid) finns i ett \"frimärke\".\n",
    "3. Den fil vi kallar \"skogligaGrunddata\" (eller något annat framöver) och slutar på .tif har \"prickar\" som är 50m i diameter, men sample-area-punkten den representerar är 25m i diameter. Därav har vi mer yta att \"arbeta\" med om så önskas per punkt.\n",
    "4. TBA"
   ]
  },
  {
   "cell_type": "markdown",
   "metadata": {},
   "source": [
    "-------------------\n",
    "Extract all the information from the supplied .tif files.\n",
    "\n",
    "Note: multiple .tif-files requre multiple extractions, i.e. \"repeating\" code for all supplied files."
   ]
  },
  {
   "cell_type": "code",
   "execution_count": 1,
   "metadata": {},
   "outputs": [],
   "source": [
    "# Structure to rasters\n",
    "\n",
    "class Raster():\n",
    "    def __init__(self, data_name, data, file_info):\n",
    "        self.data_name = data_name # Name of data property\n",
    "        self.data = data           # Raw data points\n",
    "        self.file_info = file_info # File metadata"
   ]
  },
  {
   "cell_type": "code",
   "execution_count": 2,
   "metadata": {},
   "outputs": [],
   "source": [
    "import gdal\n",
    "import numpy as np\n",
    "\n",
    "# Load all raster files into dict\n",
    "rasters = {}\n",
    "\n",
    "# For 12.5m data only, lower res. than 2m data.\n",
    "grunddata_bands = {\n",
    "    \"volume\": 1,\n",
    "    \"mean_height\": 2,\n",
    "    \"basal_area\": 3,\n",
    "    \"mean_diameter\": 4,\n",
    "    \"biomass\": 5,\n",
    "    \"upper_height\": 6,\n",
    "    \"crown_coverage\": 7\n",
    "}\n",
    "\n",
    "\n",
    "# First file, multiple rasters, 12.5 m data\n",
    "\n",
    "grunddata = gdal.Open(\"SkogligaGrunddata_2rutor.tif\")\n",
    "for key in [*grunddata_bands]:\n",
    "    data = grunddata.GetRasterBand(grunddata_bands[key]).ReadAsArray().astype(np.float)\n",
    "    # Make nonvalues None\n",
    "    data[data == 32767] = None\n",
    "    rasters[key] = Raster(key, data, grunddata.GetGeoTransform())\n",
    "\n",
    "    \n",
    "# Second file, single raster, 2 m data\n",
    "    \n",
    "tradhojd = gdal.Open(\"Tradhojd_2rutor.tif\")\n",
    "data = tradhojd.GetRasterBand(1).ReadAsArray().astype(np.float)\n",
    "# Make nonvalues None\n",
    "data[data == 32767] = None\n",
    "rasters[\"height\"] = Raster(\"height\", data, tradhojd.GetGeoTransform())"
   ]
  },
  {
   "cell_type": "markdown",
   "metadata": {},
   "source": [
    "----------------\n",
    "Load up all the sample areas from the provided excel-file (.xls) into an array (sampleAreas)."
   ]
  },
  {
   "cell_type": "code",
   "execution_count": 3,
   "metadata": {},
   "outputs": [],
   "source": [
    "# Structure to hold data (one sample area)\n",
    "\n",
    "class SampleArea():\n",
    "    def __init__(self, id, classification, coords=None):\n",
    "        self.coords = coords\n",
    "        self.id = id\n",
    "        self.classification = classification\n",
    "        \n",
    "        self.rasters = {}"
   ]
  },
  {
   "cell_type": "code",
   "execution_count": 4,
   "metadata": {},
   "outputs": [],
   "source": [
    "# Loads points from Excel file\n",
    "\n",
    "import pandas as pd\n",
    "\n",
    "sample_areas_file = pd.ExcelFile(\"provpunkter_svref99.xls\")\n",
    "sheet = sample_areas_file.parse(0)\n",
    "\n",
    "N_col = sheet[\"N\"]\n",
    "E_col = sheet[\"E\"]\n",
    "ID_col = sheet[\"OBJECTID\"]\n",
    "CLASS_col = sheet[\"pb\"]\n",
    "\n",
    "# 25 = NB-kvalitet = Nyckelbiotop\n",
    "# 26 = ONV-kvalitet = Objekt med natuvärde\n",
    "# 27 = Varken eller\n",
    "\n",
    "sampleAreas = []\n",
    "\n",
    "for i in range(len(ID_col)):\n",
    "    sampleAreas.append( SampleArea(ID_col[i], CLASS_col[i], coords=(N_col[i], E_col[i])) )"
   ]
  },
  {
   "cell_type": "markdown",
   "metadata": {},
   "source": [
    "-------------------\n",
    "Get sample areas that overlaps the raster data.\n",
    "\n",
    "We convert the raster layers to pixels and add them to \"sampleAreas_in_raster\" "
   ]
  },
  {
   "cell_type": "code",
   "execution_count": 5,
   "metadata": {},
   "outputs": [],
   "source": [
    "# Converts Sverref (Or any) coords to float positions in the raster (x, y)\n",
    "\n",
    "def to_pixel_position(coords, geo_info):\n",
    "    x_coord, y_coord = coords\n",
    "    x_start = geo_info[0]\n",
    "    y_start = geo_info[3]\n",
    "    x_size = geo_info[1]\n",
    "    y_size = geo_info[5]\n",
    "    \n",
    "    x_index = (x_coord - x_start) / x_size\n",
    "    y_index = (y_coord - y_start) / y_size\n",
    "    return x_index, y_index"
   ]
  },
  {
   "cell_type": "code",
   "execution_count": 6,
   "metadata": {},
   "outputs": [],
   "source": [
    "# Get data from within raster\n",
    "# Adds index from given raster to sampleAreas\n",
    "\n",
    "sampleAreas_in_raster = []\n",
    "\n",
    "# Picks only first raster\n",
    "# Assumes all rasters in \"rasters\" are of the same area\n",
    "raster_to_check = list(rasters.values())[0]\n",
    "\n",
    "for sampleArea in sampleAreas:\n",
    "    x, y = to_pixel_position(sampleArea.coords, raster_to_check.file_info)\n",
    "    x = int(x)\n",
    "    y = int(y)\n",
    "    size_y, size_x = raster_to_check.data.shape\n",
    "    if y >= 0 and x >= 0 and x < size_x and y < size_y:\n",
    "        sampleAreas_in_raster.append(sampleArea)"
   ]
  },
  {
   "cell_type": "markdown",
   "metadata": {},
   "source": [
    "----------\n",
    "Function to (later) visualize our layers of data from raster."
   ]
  },
  {
   "cell_type": "code",
   "execution_count": 7,
   "metadata": {},
   "outputs": [],
   "source": [
    "# Fuction for rendering output image\n",
    "\n",
    "from PIL import Image\n",
    "\n",
    "def draw_image(arr):\n",
    "    normalized_arr = (arr*255.0/np.amax(arr)).astype(np.uint8)\n",
    "    im = Image.fromarray(normalized_arr)\n",
    "    im.save(\"output.png\", mode=\"L\")"
   ]
  },
  {
   "cell_type": "markdown",
   "metadata": {},
   "source": [
    "------------\n",
    "\n",
    "Extracts data around each sample area coordinate in a given radius.\n",
    "\n",
    "Does this for each layer and saves them back into the given sample area (each item in sampleAreas_in_raster)."
   ]
  },
  {
   "cell_type": "code",
   "execution_count": 34,
   "metadata": {},
   "outputs": [],
   "source": [
    "# Picks out every area to individual areas (values currently)\n",
    "\n",
    "from PIL import Image\n",
    "\n",
    "radius_in_meters = 25\n",
    "\n",
    "for sampleArea in sampleAreas_in_raster:\n",
    "    for key in [*rasters]:\n",
    "        point = to_pixel_position(sampleArea.coords, rasters[key].file_info)\n",
    "        \n",
    "        x = np.arange(0, rasters[key].data.shape[1])\n",
    "        y = np.arange(0, rasters[key].data.shape[0])\n",
    "\n",
    "        cx = point[0]\n",
    "        cy = point[1]\n",
    "        r = radius_in_meters/abs(rasters[key].file_info[1])\n",
    "\n",
    "        points_in_radius = rasters[key].data[(x[np.newaxis,:]-cx)**2 + (y[:,np.newaxis]-cy)**2 < r**2]\n",
    "\n",
    "        sampleArea.rasters[key] = points_in_radius"
   ]
  },
  {
   "cell_type": "code",
   "execution_count": 36,
   "metadata": {},
   "outputs": [],
   "source": [
    "# This works kinda? \n",
    "# om vi vill spara vår array till en fil\n",
    "\n",
    "np.save(\"sampleAreas_1\", sampleAreas_in_raster)"
   ]
  },
  {
   "cell_type": "markdown",
   "metadata": {},
   "source": [
    "------------\n",
    "\n",
    "Modded code from previous block, only to produce image of what is extracted."
   ]
  },
  {
   "cell_type": "code",
   "execution_count": null,
   "metadata": {},
   "outputs": [],
   "source": [
    "# Produce image of only masks around the given points\n",
    "\n",
    "from PIL import Image\n",
    "\n",
    "raster = rasters[\"height\"]\n",
    "\n",
    "numpy_data = raster.data\n",
    "\n",
    "\n",
    "# Must convert nans to 0\n",
    "numpy_data[np.isnan(numpy_data)] = 0\n",
    "\n",
    "final_mask = np.zeros_like(numpy_data, dtype=bool)\n",
    "\n",
    "for sampleArea in sampleAreas_in_raster:\n",
    "    point = to_pixel_position(sampleArea.coords, raster.info)\n",
    "    \n",
    "    x = np.arange(0, numpy_data.shape[1])\n",
    "    y = np.arange(0, numpy_data.shape[0])\n",
    "\n",
    "    cx = point[0]\n",
    "    cy = point[1]\n",
    "    r = 25/abs(raster.info[1])\n",
    "    \n",
    "    new_mask = (x[np.newaxis,:]-cx)**2 + (y[:,np.newaxis]-cy)**2 < r**2\n",
    "    \n",
    "    final_mask = final_mask | new_mask\n",
    "    \n",
    "final_mask = np.invert(final_mask)\n",
    "\n",
    "numpy_data[final_mask] = 0 # np.ma.array(numpy_data, mask=final_mask)\n",
    "\n",
    "draw_image(numpy_data)"
   ]
  },
  {
   "cell_type": "code",
   "execution_count": null,
   "metadata": {},
   "outputs": [],
   "source": []
  }
 ],
 "metadata": {
  "kernelspec": {
   "display_name": "Python 3",
   "language": "python",
   "name": "python3"
  },
  "language_info": {
   "codemirror_mode": {
    "name": "ipython",
    "version": 3
   },
   "file_extension": ".py",
   "mimetype": "text/x-python",
   "name": "python",
   "nbconvert_exporter": "python",
   "pygments_lexer": "ipython3",
   "version": "3.7.2"
  }
 },
 "nbformat": 4,
 "nbformat_minor": 2
}
