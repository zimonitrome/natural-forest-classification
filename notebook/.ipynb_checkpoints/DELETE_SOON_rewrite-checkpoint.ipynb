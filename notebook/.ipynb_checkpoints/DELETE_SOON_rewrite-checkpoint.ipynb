{
 "cells": [
  {
   "cell_type": "code",
   "execution_count": 135,
   "metadata": {},
   "outputs": [],
   "source": [
    "# Open raster file with band\n",
    "\n",
    "import gdal\n",
    "import numpy as np\n",
    "\n",
    "raster_file_name = \"SkogligaGrunddata_2rutor.tif\"\n",
    "raster_file = gdal.Open(raster_file_name)\n",
    "band = ds.GetRasterBand(1)\n",
    "arr = band.ReadAsArray().astype(np.float)\n",
    "\n",
    "# Make nonvalues None ()\n",
    "arr[arr == 32767] = None"
   ]
  },
  {
   "cell_type": "code",
   "execution_count": 134,
   "metadata": {},
   "outputs": [],
   "source": [
    "# Converts Sverref (Or any) coords to float positions in the raster (x, y)\n",
    "\n",
    "def to_pixel_position(coords, raster_file):\n",
    "    x_coord, y_coord = coords\n",
    "    geo_info = raster_file.GetGeoTransform()\n",
    "    x_start = geo_info[0]\n",
    "    y_start = geo_info[3]\n",
    "    x_size = geo_info[1]\n",
    "    y_size = geo_info[5]\n",
    "    \n",
    "    x_index = (x_coord - x_start) / x_size\n",
    "    y_index = (y_coord - y_start) / y_size\n",
    "    return x_index, y_index"
   ]
  },
  {
   "cell_type": "code",
   "execution_count": 113,
   "metadata": {},
   "outputs": [],
   "source": [
    "# Structure to hold data\n",
    "\n",
    "class SampleArea():\n",
    "    def __init__(self, id, classification, coords=None):\n",
    "        self.coords = coords\n",
    "        self.id = id\n",
    "        self.classification = classification\n",
    "        \n",
    "        self.index = None\n",
    "        self.dataPoitns = None\n",
    "        \n",
    "        self.meanHeight = None"
   ]
  },
  {
   "cell_type": "code",
   "execution_count": 114,
   "metadata": {},
   "outputs": [],
   "source": [
    "# Loads points from Excel file\n",
    "\n",
    "import pandas as pd\n",
    "\n",
    "sample_areas_file = r\"provpunkter_svref99.xls\"\n",
    "xls = pd.ExcelFile(sample_areas_file)\n",
    "sheet = xls.parse(0)\n",
    "\n",
    "N_col = sheet[\"N\"]\n",
    "E_col = sheet[\"E\"]\n",
    "ID_col = sheet[\"OBJECTID\"]\n",
    "CLASS_col = sheet[\"pb\"]\n",
    "\n",
    "# 25 = NB-kvalitet = Nyckelbiotop\n",
    "# 26 = ONV-kvalitet = Objekt med natuvärde\n",
    "# 27 = Varken eller\n",
    "\n",
    "sampleAreas = []\n",
    "\n",
    "for i in range(len(ID_col)):\n",
    "    sampleAreas.append( SampleArea(ID_col[i], CLASS_col[i], coords=(N_col[i], E_col[i])) )"
   ]
  },
  {
   "cell_type": "code",
   "execution_count": 124,
   "metadata": {},
   "outputs": [],
   "source": [
    "# Get data from within raster\n",
    "# Adds index from given raster to sampleAreas\n",
    "\n",
    "sampleAreas_in_raster = []\n",
    "\n",
    "for sampleArea in sampleAreas:\n",
    "    x, y = to_pixel_position(sampleArea.coords, raster_file)\n",
    "    x = int(x)\n",
    "    y = int(y)\n",
    "    size_y, size_x = arr.shape\n",
    "    if y >= 0 and x >= 0 and x < size_x and y < size_y:\n",
    "        sampleArea.index = (x, y)\n",
    "        sampleAreas_in_raster.append(sampleArea)"
   ]
  },
  {
   "cell_type": "code",
   "execution_count": 133,
   "metadata": {},
   "outputs": [],
   "source": [
    "# Render output image\n",
    "\n",
    "from PIL import Image\n",
    "normalized_arr = (arr*255.0/np.amax(arr)).astype(np.uint8)\n",
    "im = Image.fromarray(normalized_arr)\n",
    "im.save(\"output.png\", mode=\"L\")"
   ]
  },
  {
   "cell_type": "code",
   "execution_count": null,
   "metadata": {},
   "outputs": [],
   "source": []
  }
 ],
 "metadata": {
  "kernelspec": {
   "display_name": "Python 3",
   "language": "python",
   "name": "python3"
  },
  "language_info": {
   "codemirror_mode": {
    "name": "ipython",
    "version": 3
   },
   "file_extension": ".py",
   "mimetype": "text/x-python",
   "name": "python",
   "nbconvert_exporter": "python",
   "pygments_lexer": "ipython3",
   "version": "3.7.1"
  }
 },
 "nbformat": 4,
 "nbformat_minor": 2
}
