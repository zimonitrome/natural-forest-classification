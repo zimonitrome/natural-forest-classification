{
 "cells": [
  {
   "cell_type": "code",
   "execution_count": 37,
   "metadata": {},
   "outputs": [],
   "source": [
    "import numpy as np"
   ]
  },
  {
   "cell_type": "code",
   "execution_count": 38,
   "metadata": {},
   "outputs": [
    {
     "ename": "AttributeError",
     "evalue": "'NoneType' object has no attribute 'GetRasterBand'",
     "output_type": "error",
     "traceback": [
      "\u001b[1;31m---------------------------------------------------------------------------\u001b[0m",
      "\u001b[1;31mAttributeError\u001b[0m                            Traceback (most recent call last)",
      "\u001b[1;32m<ipython-input-38-6617c99ab646>\u001b[0m in \u001b[0;36m<module>\u001b[1;34m\u001b[0m\n\u001b[0;32m      4\u001b[0m \u001b[1;33m\u001b[0m\u001b[0m\n\u001b[0;32m      5\u001b[0m \u001b[0mraster\u001b[0m \u001b[1;33m=\u001b[0m \u001b[1;34m\"Tradhojd_2_02.tif\"\u001b[0m\u001b[1;33m\u001b[0m\u001b[0m\n\u001b[1;32m----> 6\u001b[1;33m \u001b[0mNDV\u001b[0m\u001b[1;33m,\u001b[0m \u001b[0mxsize\u001b[0m\u001b[1;33m,\u001b[0m \u001b[0mysize\u001b[0m\u001b[1;33m,\u001b[0m \u001b[0mGeoT\u001b[0m\u001b[1;33m,\u001b[0m \u001b[0mProjection\u001b[0m\u001b[1;33m,\u001b[0m \u001b[0mDataType\u001b[0m \u001b[1;33m=\u001b[0m \u001b[0mgr\u001b[0m\u001b[1;33m.\u001b[0m\u001b[0mget_geo_info\u001b[0m\u001b[1;33m(\u001b[0m\u001b[0mraster\u001b[0m\u001b[1;33m)\u001b[0m\u001b[1;33m\u001b[0m\u001b[0m\n\u001b[0m\u001b[0;32m      7\u001b[0m \u001b[0mdata\u001b[0m \u001b[1;33m=\u001b[0m \u001b[0mgr\u001b[0m\u001b[1;33m.\u001b[0m\u001b[0mfrom_file\u001b[0m\u001b[1;33m(\u001b[0m\u001b[0mraster\u001b[0m\u001b[1;33m)\u001b[0m\u001b[1;33m\u001b[0m\u001b[0m\n\u001b[0;32m      8\u001b[0m \u001b[1;33m\u001b[0m\u001b[0m\n",
      "\u001b[1;32m~\\Anaconda3\\envs\\try_georasters3\\lib\\site-packages\\georasters\\georasters.py\u001b[0m in \u001b[0;36mget_geo_info\u001b[1;34m(filename, band)\u001b[0m\n\u001b[0;32m     50\u001b[0m     '''\n\u001b[0;32m     51\u001b[0m     \u001b[0msourceds\u001b[0m \u001b[1;33m=\u001b[0m \u001b[0mgdal\u001b[0m\u001b[1;33m.\u001b[0m\u001b[0mOpen\u001b[0m\u001b[1;33m(\u001b[0m\u001b[0mfilename\u001b[0m\u001b[1;33m,\u001b[0m \u001b[0mGA_ReadOnly\u001b[0m\u001b[1;33m)\u001b[0m\u001b[1;33m\u001b[0m\u001b[0m\n\u001b[1;32m---> 52\u001b[1;33m     \u001b[0mndv\u001b[0m \u001b[1;33m=\u001b[0m \u001b[0msourceds\u001b[0m\u001b[1;33m.\u001b[0m\u001b[0mGetRasterBand\u001b[0m\u001b[1;33m(\u001b[0m\u001b[0mband\u001b[0m\u001b[1;33m)\u001b[0m\u001b[1;33m.\u001b[0m\u001b[0mGetNoDataValue\u001b[0m\u001b[1;33m(\u001b[0m\u001b[1;33m)\u001b[0m\u001b[1;33m\u001b[0m\u001b[0m\n\u001b[0m\u001b[0;32m     53\u001b[0m     \u001b[0mxsize\u001b[0m \u001b[1;33m=\u001b[0m \u001b[0msourceds\u001b[0m\u001b[1;33m.\u001b[0m\u001b[0mRasterXSize\u001b[0m\u001b[1;33m\u001b[0m\u001b[0m\n\u001b[0;32m     54\u001b[0m     \u001b[0mysize\u001b[0m \u001b[1;33m=\u001b[0m \u001b[0msourceds\u001b[0m\u001b[1;33m.\u001b[0m\u001b[0mRasterYSize\u001b[0m\u001b[1;33m\u001b[0m\u001b[0m\n",
      "\u001b[1;31mAttributeError\u001b[0m: 'NoneType' object has no attribute 'GetRasterBand'"
     ]
    }
   ],
   "source": [
    "# Loads raster\n",
    "\n",
    "import georasters as gr\n",
    "\n",
    "raster = \"Tradhojd_2_02.tif\"\n",
    "NDV, xsize, ysize, GeoT, Projection, DataType = gr.get_geo_info(raster)\n",
    "data = gr.from_file(raster)\n",
    "\n",
    "data.plot()"
   ]
  },
  {
   "cell_type": "code",
   "execution_count": 33,
   "metadata": {},
   "outputs": [],
   "source": [
    "class SampleArea():\n",
    "    def __init__(self, id, classification, coords=None):\n",
    "        self.coords = coords\n",
    "        self.id = id\n",
    "        self.classification = classification\n",
    "        \n",
    "        self.pixels = None\n",
    "        self.dataPoitns = None\n",
    "        \n",
    "        self.meanHeight = None\n",
    "    "
   ]
  },
  {
   "cell_type": "code",
   "execution_count": 34,
   "metadata": {},
   "outputs": [],
   "source": [
    "# Loads points from Excel file\n",
    "\n",
    "import pandas as pd\n",
    "\n",
    "file = r\"provpunkter_svref99.xls\"\n",
    "xls = pd.ExcelFile(file)\n",
    "sheet = xls.parse(0)\n",
    "\n",
    "N_col = sheet[\"N\"]\n",
    "E_col = sheet[\"E\"]\n",
    "ID_col = sheet[\"OBJECTID\"]\n",
    "CLASS_col = sheet[\"pb\"]\n",
    "\n",
    "# 25 = NB-kvalitet = Nyckelbiotop\n",
    "# 26 = ONV-kvalitet = Objekt med natuvärde\n",
    "# 27 = Varken eller\n",
    "\n",
    "sampleAreas = []\n",
    "\n",
    "for i in range(len(ID_col)):\n",
    "    sampleAreas.append( SampleArea(ID_col[i], CLASS_col[i], coords=(N_col[i], E_col[i])) )"
   ]
  },
  {
   "cell_type": "code",
   "execution_count": 7,
   "metadata": {},
   "outputs": [],
   "source": [
    "# Get data from within raster\n",
    "# Adds pixels from given raster to sampleAreas\n",
    "\n",
    "sampleAreas_in_raster = []\n",
    "\n",
    "for ix, sampleArea in enumerate(sampleAreas):\n",
    "    try:\n",
    "        coord = sampleArea.coords\n",
    "        \n",
    "        value = data.map_pixel(coord[0], coord[1]) # Tries to get value from coords\n",
    "        pixels = gr.map_pixel(coord[0], coord[1], GeoT[1],GeoT[-1], GeoT[0],GeoT[3])\n",
    "        sampleArea.pixels = pixels\n",
    "        \n",
    "        sampleAreas_in_raster.append(sampleArea)\n",
    "        print(ix)\n",
    "    except:\n",
    "        pass"
   ]
  },
  {
   "cell_type": "code",
   "execution_count": 14,
   "metadata": {},
   "outputs": [],
   "source": [
    "# Produce image of only masks around the given points\n",
    "\n",
    "from PIL import Image\n",
    "\n",
    "numpy_data = np.copy(np.asarray(Image.open(raster)))\n",
    "\n",
    "numpy_data[numpy_data == 65536] = 0 # nodata is set to 65536 when reading with some tools, here interpret that as 0 instead\n",
    "\n",
    "final_mask = np.zeros_like(numpy_data, dtype=bool)\n",
    "\n",
    "for sampleArea in sampleAreas_in_raster:\n",
    "    point = sampleArea.pixels\n",
    "    \n",
    "    x = np.arange(0, data.shape[1])\n",
    "    y = np.arange(0, data.shape[0])\n",
    "\n",
    "    cx = point[0]\n",
    "    cy = point[1]\n",
    "    r = 12.5 # 1px = 2m => 25m radie\n",
    "    \n",
    "    new_mask = (x[np.newaxis,:]-cx)**2 + (y[:,np.newaxis]-cy)**2 < r**2\n",
    "    \n",
    "    final_mask = final_mask | new_mask\n",
    "    \n",
    "final_mask = np.invert(final_mask)\n",
    "    \n",
    "new_data = np.ma.array(numpy_data, mask=final_mask)\n",
    "\n"
   ]
  },
  {
   "cell_type": "code",
   "execution_count": 15,
   "metadata": {},
   "outputs": [
    {
     "data": {
      "text/plain": [
       "<Figure size 432x288 with 0 Axes>"
      ]
     },
     "metadata": {},
     "output_type": "display_data"
    },
    {
     "data": {
      "image/png": "[encoded data removed]",
      "text/plain": [
       "<Figure size 432x288 with 1 Axes>"
      ]
     },
     "metadata": {
      "needs_background": "light"
     },
     "output_type": "display_data"
    }
   ],
   "source": [
    "# Plot sampleAreas\n",
    "\n",
    "import matplotlib.pyplot as plt\n",
    "\n",
    "plt.figure(figsize=None)\n",
    "\n",
    "plt, axs=plt.subplots()\n",
    "axs.imshow(new_data)\n",
    "    \n",
    "plt.show()\n",
    "\n",
    "plt.savefig('points.png',bbox_inches='tight', pad_inches = 0, format='png', dpi=2119.278)"
   ]
  },
  {
   "cell_type": "code",
   "execution_count": 16,
   "metadata": {},
   "outputs": [],
   "source": [
    "# Picks out every area to individual areas (values currently)\n",
    "\n",
    "from PIL import Image\n",
    "\n",
    "numpy_data = np.copy(np.asarray(Image.open(raster)))\n",
    "numpy_data[numpy_data == 65536] = 0 # nodata is set to 65536 when reading with some tools, here interpret that as 0 instead\n",
    "\n",
    "for sampleArea in sampleAreas_in_raster:\n",
    "    point = sampleArea.pixels\n",
    "    \n",
    "    x = np.arange(0, numpy_data.shape[1])\n",
    "    y = np.arange(0, numpy_data.shape[0])\n",
    "\n",
    "    cx = point[0]\n",
    "    cy = point[1]\n",
    "    r = 12.5 # 1px = 2m => 25m radie\n",
    "    \n",
    "    points_in_radius = numpy_data[(x[np.newaxis,:]-cx)**2 + (y[:,np.newaxis]-cy)**2 < r**2]\n",
    "    \n",
    "    sampleArea.datapoints = points_in_radius"
   ]
  },
  {
   "cell_type": "code",
   "execution_count": 17,
   "metadata": {},
   "outputs": [],
   "source": [
    "# Calculates mean height for each sampleArea\n",
    "\n",
    "for sampleArea in sampleAreas_in_raster:\n",
    "    sampleArea.meanHeight = np.array(sampleArea.datapoints).mean()"
   ]
  },
  {
   "cell_type": "code",
   "execution_count": 32,
   "metadata": {},
   "outputs": [],
   "source": [
    "# Sorts each main height in its own array based on category\n",
    "\n",
    "cat_25 = list(filter(lambda x: x.classification == 25, sampleAreas_in_raster))\n",
    "cat_26 = list(filter(lambda x: x.classification == 26, sampleAreas_in_raster))\n",
    "cat_27 = list(filter(lambda x: x.classification == 27, sampleAreas_in_raster))\n",
    "\n",
    "cat_25 = list(map(lambda x: x.meanHeight, cat_25))\n",
    "cat_26 = list(map(lambda x: x.meanHeight, cat_26))\n",
    "cat_27 = list(map(lambda x: x.meanHeight, cat_27))\n",
    "\n",
    "categories = [cat_25, cat_26, cat_27]"
   ]
  },
  {
   "cell_type": "code",
   "execution_count": 57,
   "metadata": {},
   "outputs": [
    {
     "data": {
      "image/png": "[encoded data removed]",
      "text/plain": [
       "<Figure size 432x288 with 1 Axes>"
      ]
     },
     "metadata": {
      "needs_background": "light"
     },
     "output_type": "display_data"
    }
   ],
   "source": [
    "# Plots sample areas meanheight based on category\n",
    "\n",
    "import pandas as pd\n",
    "\n",
    "df = pd.DataFrame([*zip(*categories)],columns=[\"NB\", \"ONV\", \"ej NB/ONV\"])\n",
    "\n",
    "boxplot = df.boxplot(column=[\"NB\", \"ONV\", \"ej NB/ONV\"])\n",
    "plt.show()"
   ]
  },
  {
   "cell_type": "code",
   "execution_count": 56,
   "metadata": {},
   "outputs": [
    {
     "name": "stderr",
     "output_type": "stream",
     "text": [
      "C:\\Users\\Simon\\Anaconda3\\envs\\try_georasters3\\lib\\site-packages\\ipykernel_launcher.py:18: MatplotlibDeprecationWarning: scipy.stats.norm.pdf\n"
     ]
    },
    {
     "data": {
      "image/png": "[encoded data removed]",
      "text/plain": [
       "<Figure size 432x288 with 1 Axes>"
      ]
     },
     "metadata": {
      "needs_background": "light"
     },
     "output_type": "display_data"
    }
   ],
   "source": [
    "from scipy.stats import norm\n",
    "import matplotlib.pyplot as plt\n",
    "import matplotlib.mlab as mlab\n",
    "\n",
    "cat_dict = {\n",
    "    25: \"NB\",\n",
    "    26: \"ONV\",\n",
    "    27: \"ej NB/ONV\"\n",
    "}\n",
    "\n",
    "for ix, cat in enumerate(categories):\n",
    "    if ix == 1:\n",
    "        continue\n",
    "    mu, sigma = norm.fit(cat)\n",
    "    \n",
    "    x = np.linspace(mu - 3*sigma, mu + 3*sigma, 100)\n",
    "    \n",
    "    plt.plot(x,mlab.normpdf(x, mu, sigma), label=cat_dict[25+ix])\n",
    "plt.legend()\n",
    "plt.show()"
   ]
  },
  {
   "cell_type": "code",
   "execution_count": null,
   "metadata": {},
   "outputs": [],
   "source": []
  }
 ],
 "metadata": {
  "kernelspec": {
   "display_name": "Python 3",
   "language": "python",
   "name": "python3"
  },
  "language_info": {
   "codemirror_mode": {
    "name": "ipython",
    "version": 3
   },
   "file_extension": ".py",
   "mimetype": "text/x-python",
   "name": "python",
   "nbconvert_exporter": "python",
   "pygments_lexer": "ipython3",
   "version": "3.7.1"
  }
 },
 "nbformat": 4,
 "nbformat_minor": 2
}
