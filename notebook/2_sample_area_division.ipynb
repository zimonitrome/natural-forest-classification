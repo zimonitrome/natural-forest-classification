{
 "cells": [
  {
   "cell_type": "markdown",
   "metadata": {},
   "source": [
    "Load extracted sample areas.\n",
    "\n",
    "List how much of each class we have right now."
   ]
  },
  {
   "cell_type": "code",
   "execution_count": 1,
   "metadata": {},
   "outputs": [
    {
     "name": "stdout",
     "output_type": "stream",
     "text": [
      "Total (25 + 27): 2882\n",
      "Number of 25s (NF): 1857\n",
      "Number of 27s (non NF): 1025\n",
      "Number of 26s (ONV): 1150\n",
      "Number of None: 22\n",
      "\n"
     ]
    }
   ],
   "source": [
    "import numpy as np\n",
    "import nfhelpers as nf\n",
    "import math\n",
    "\n",
    "sampleAreas = np.load(f\"numpy_objects/sampleAreas_with_raw_data.npy\")\n",
    "\n",
    "# Filter out sample areas that are 26\n",
    "# ---\n",
    "# 25 = natural forest\n",
    "# 26 = some natural values\n",
    "# 27 = not natural forest\n",
    "# ---\n",
    "\n",
    "def listClasses(samples):\n",
    "    print(f\"Total (25 + 27): {len(list(filter(lambda s: s.classification == 25 or s.classification == 27, samples)))}\")\n",
    "    print(f\"Number of 25s (NF): {len(list(filter(lambda s: s.classification == 25, samples)))}\")\n",
    "    print(f\"Number of 27s (non NF): {len(list(filter(lambda s: s.classification == 27, samples)))}\")\n",
    "    print(f\"Number of 26s (ONV): {len(list(filter(lambda s: s.classification == 26, samples)))}\")\n",
    "    print(f\"Number of None: {len(list(filter(lambda s: math.isnan(s.classification), samples)))}\")\n",
    "    print(\"\")\n",
    "    \n",
    "listClasses(sampleAreas)"
   ]
  },
  {
   "cell_type": "markdown",
   "metadata": {},
   "source": [
    "------------\n",
    "\n",
    "Split the data into one set for training and one hold out to save for later.\n",
    "\n",
    "Splits 70-30 statified"
   ]
  },
  {
   "cell_type": "code",
   "execution_count": 2,
   "metadata": {},
   "outputs": [],
   "source": [
    "import sklearn as sk\n",
    "from sklearn.model_selection import train_test_split\n",
    "\n",
    "random_seed = 300219455 # Generated from np.random once\n",
    "\n",
    "sampleAreas = list(filter(lambda s: s.classification == 25 or s.classification == 27, sampleAreas))\n",
    "\n",
    "# Extract all sample areas and convert to binary (25 = 1, 27 = 0)\n",
    "binary_labels = np.array(list(map(lambda s: 1 if s.classification == 25 else 0, sampleAreas)))\n",
    "\n",
    "training_samples, holdout_samples, training_labels, holdout_labels = train_test_split(sampleAreas, binary_labels, test_size=0.3, stratify=binary_labels, random_state=random_seed)"
   ]
  },
  {
   "cell_type": "markdown",
   "metadata": {},
   "source": [
    "Show the split data."
   ]
  },
  {
   "cell_type": "code",
   "execution_count": 3,
   "metadata": {},
   "outputs": [
    {
     "name": "stdout",
     "output_type": "stream",
     "text": [
      "Training samples:\n",
      "Total (25 + 27): 2017\n",
      "Number of 25s (NF): 1300\n",
      "Number of 27s (non NF): 717\n",
      "Number of 26s (ONV): 0\n",
      "Number of None: 0\n",
      "\n",
      "Holdout samples:\n",
      "Total (25 + 27): 865\n",
      "Number of 25s (NF): 557\n",
      "Number of 27s (non NF): 308\n",
      "Number of 26s (ONV): 0\n",
      "Number of None: 0\n",
      "\n"
     ]
    }
   ],
   "source": [
    "print(\"Training samples:\")\n",
    "listClasses(training_samples)\n",
    "\n",
    "print(\"Holdout samples:\")\n",
    "listClasses(holdout_samples)"
   ]
  },
  {
   "cell_type": "markdown",
   "metadata": {},
   "source": [
    "------------\n",
    "\n",
    "Save split data."
   ]
  },
  {
   "cell_type": "code",
   "execution_count": 4,
   "metadata": {},
   "outputs": [],
   "source": [
    "np.save(\"numpy_objects/training_data_set\", training_samples)\n",
    "np.save(\"numpy_objects/holdout_data_set\", holdout_samples)"
   ]
  },
  {
   "cell_type": "code",
   "execution_count": null,
   "metadata": {},
   "outputs": [],
   "source": []
  }
 ],
 "metadata": {
  "kernelspec": {
   "display_name": "Python 3",
   "language": "python",
   "name": "python3"
  },
  "language_info": {
   "codemirror_mode": {
    "name": "ipython",
    "version": 3
   },
   "file_extension": ".py",
   "mimetype": "text/x-python",
   "name": "python",
   "nbconvert_exporter": "python",
   "pygments_lexer": "ipython3",
   "version": "3.6.0"
  }
 },
 "nbformat": 4,
 "nbformat_minor": 2
}
