{
 "cells": [
  {
   "cell_type": "markdown",
   "metadata": {},
   "source": [
    "Load raster file for tree height."
   ]
  },
  {
   "cell_type": "code",
   "execution_count": 1,
   "metadata": {},
   "outputs": [],
   "source": [
    "import gdal\n",
    "import numpy as np\n",
    "import nfhelpers as nf\n",
    "\n",
    "no_data_value = -1\n",
    "\n",
    "tree_height_file = gdal.Open(\"SFA_files/TH/TH.vrt\")"
   ]
  },
  {
   "cell_type": "markdown",
   "metadata": {},
   "source": [
    "----------------\n",
    "Load all the sample areas from Excel-file."
   ]
  },
  {
   "cell_type": "code",
   "execution_count": 2,
   "metadata": {},
   "outputs": [],
   "source": [
    "import pandas as pd\n",
    "\n",
    "sample_areas_file = pd.ExcelFile(\"SFA_files/provpunkter_svref99.xls\")\n",
    "sheet = sample_areas_file.parse(0)\n",
    "\n",
    "N_col = sheet[\"N\"]\n",
    "E_col = sheet[\"E\"]\n",
    "ID_col = sheet[\"OBJECTID\"]\n",
    "CLASS_col = sheet[\"pb\"]\n",
    "\n",
    "sampleAreas = []\n",
    "\n",
    "for i in range(len(ID_col)):\n",
    "    sampleAreas.append( nf.SampleArea(ID_col[i], CLASS_col[i], coords=(N_col[i], E_col[i])) )"
   ]
  },
  {
   "cell_type": "markdown",
   "metadata": {},
   "source": [
    "------------\n",
    "\n",
    "Extracts data around each sample area coordinate in a given radius."
   ]
  },
  {
   "cell_type": "code",
   "execution_count": 3,
   "metadata": {},
   "outputs": [
    {
     "data": {
      "application/vnd.jupyter.widget-view+json": {
       "model_id": "fd863213934b473385c7a58dc33ded26",
       "version_major": 2,
       "version_minor": 0
      },
      "text/plain": [
       "HBox(children=(IntProgress(value=0, max=4175), HTML(value='')))"
      ]
     },
     "metadata": {},
     "output_type": "display_data"
    },
    {
     "name": "stdout",
     "output_type": "stream",
     "text": [
      "Done!\n"
     ]
    }
   ],
   "source": [
    "import nfhelpers as nf\n",
    "import tqdm\n",
    "import math\n",
    "from scipy.ndimage.filters import gaussian_filter\n",
    "from scipy.ndimage.interpolation import zoom\n",
    "import matplotlib.pyplot as plt\n",
    "\n",
    "radius_in_meters = 25\n",
    "\n",
    "pbar = tqdm.tqdm_notebook(total=len(sampleAreas))\n",
    "\n",
    "geo_transform = tree_height_file.GetGeoTransform()\n",
    "radius = radius_in_meters/abs(geo_transform[1])\n",
    "band = tree_height_file.GetRasterBand(1)\n",
    "area_buffer = math.ceil(radius) + 5\n",
    "\n",
    "for sampleArea in sampleAreas:\n",
    "    point = nf.to_pixel_position(sampleArea.coords, geo_transform)\n",
    "    cx = point[0]\n",
    "    cy = point[1]\n",
    "\n",
    "    area_buffer_CHM = band.ReadAsArray(int(cx)-area_buffer, int(cy)-area_buffer, 2*area_buffer, 2*area_buffer).astype(np.float)\n",
    "\n",
    "    area_buffer_point = ((cx-int(cx)+area_buffer), (cy-int(cy)+area_buffer))\n",
    "\n",
    "    circle_mask_low_res = nf.create_circular_mask(area_buffer*2, area_buffer*2, area_buffer_point, radius)\n",
    "    CHM_values_in_radius = area_buffer_CHM[circle_mask_low_res == True]\n",
    "\n",
    "    # interpolate data with billinear interpolation to 8x size (2m => 0.25m)\n",
    "    interpolated_CHM = zoom(area_buffer_CHM, 8, order=1)\n",
    "\n",
    "    # smooth data with kernel = 1\n",
    "    smoothed_CHM = gaussian_filter(interpolated_CHM, 1)\n",
    "\n",
    "    circle_mask_high_res = nf.create_circular_mask(smoothed_CHM.shape[0], smoothed_CHM.shape[1], (area_buffer_point[0]*8, area_buffer_point[1]*8), radius*8)\n",
    "\n",
    "    cut_out = np.array(smoothed_CHM)\n",
    "    cut_out[~circle_mask_high_res] = None\n",
    "\n",
    "    sampleArea.rasters[\"height\"] = CHM_values_in_radius\n",
    "    sampleArea.rasters[\"height_smoothed\"] = cut_out\n",
    "\n",
    "    pbar.update(1)\n",
    "\n",
    "print(\"Done!\")"
   ]
  },
  {
   "cell_type": "markdown",
   "metadata": {},
   "source": [
    "-------------\n",
    "\n",
    "Filters out sample areas with any non-values."
   ]
  },
  {
   "cell_type": "code",
   "execution_count": 4,
   "metadata": {},
   "outputs": [
    {
     "name": "stdout",
     "output_type": "stream",
     "text": [
      "Before filtering: 4175\n",
      "After filtering: 4054\n"
     ]
    }
   ],
   "source": [
    "filtered_sampleAreas = []\n",
    "\n",
    "for sampleArea in sampleAreas:\n",
    "    if (sampleArea.rasters[\"height\"] == no_data_value).any():\n",
    "        continue\n",
    "    filtered_sampleAreas.append(sampleArea)\n",
    "\n",
    "print(f\"Before filtering: {len(sampleAreas)}\")\n",
    "print(f\"After filtering: {len(filtered_sampleAreas)}\")"
   ]
  },
  {
   "cell_type": "markdown",
   "metadata": {},
   "source": [
    "------------\n",
    "\n",
    "Saves all the extracted data to file."
   ]
  },
  {
   "cell_type": "code",
   "execution_count": 5,
   "metadata": {},
   "outputs": [],
   "source": [
    "np.save(\"numpy_objects/sampleAreas_with_raw_data\", filtered_sampleAreas)"
   ]
  },
  {
   "cell_type": "code",
   "execution_count": null,
   "metadata": {},
   "outputs": [],
   "source": []
  }
 ],
 "metadata": {
  "kernelspec": {
   "display_name": "Python 3",
   "language": "python",
   "name": "python3"
  },
  "language_info": {
   "codemirror_mode": {
    "name": "ipython",
    "version": 3
   },
   "file_extension": ".py",
   "mimetype": "text/x-python",
   "name": "python",
   "nbconvert_exporter": "python",
   "pygments_lexer": "ipython3",
   "version": "3.6.0"
  }
 },
 "nbformat": 4,
 "nbformat_minor": 2
}
