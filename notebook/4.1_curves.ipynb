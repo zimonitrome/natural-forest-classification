{
 "cells": [
  {
   "cell_type": "code",
   "execution_count": null,
   "metadata": {},
   "outputs": [],
   "source": [
    "import numpy as np\n",
    "import nfhelpers as nf\n",
    "import sklearn as sk\n",
    "\n",
    "sampleAreas = np.load(\"numpy objects/training_data_set_with_features.npy\")\n",
    "\n",
    "# Extract an array with all features\n",
    "X = np.array(list(map(lambda s: [s.features[key] for key in [*s.features]], sampleAreas)))\n",
    "\n",
    "# Extract all sample areas and convert to binary (25 = True, 27 = False)\n",
    "y = np.array(list(map(lambda s: 1 if s.classification == 25 else 0, sampleAreas)))"
   ]
  },
  {
   "cell_type": "markdown",
   "metadata": {},
   "source": [
    "---------------\n",
    "Testing ROC curve."
   ]
  },
  {
   "cell_type": "code",
   "execution_count": null,
   "metadata": {},
   "outputs": [],
   "source": [
    "from sklearn.model_selection import RepeatedStratifiedKFold, train_test_split\n",
    "from sklearn.ensemble import RandomForestClassifier\n",
    "from sklearn.metrics import roc_curve, auc, precision_recall_curve, roc_auc_score, average_precision_score\n",
    "from sklearn.utils.fixes import signature\n",
    "\n",
    "X_train, X_test, y_train, y_test = train_test_split(X, y, test_size=.3)\n",
    "\n",
    "clf = RandomForestClassifier(n_jobs=-1, n_estimators=100, random_state=1)\n",
    "clf.fit(X_train, y_train) # (features, labels)\n",
    "y_pred = clf.predict_proba(X_test)\n",
    "y_pred_bin = clf.predict(X_test)\n",
    "\n",
    "fpr, tpr, _ = roc_curve(y_test, y_pred[:, 1])\n",
    "precision, recall, _ = precision_recall_curve(y_test, y_pred[:, 1])\n",
    "\n",
    "# plt.figure()\n",
    "# lw = 2\n",
    "# plt.plot(fpr, tpr, color='darkorange', lw=lw, label='ROC curve (area = %0.2f)' % auc(fpr, tpr))\n",
    "# plt.plot([0, 1], [0, 1], color='navy', lw=lw, linestyle='--')\n",
    "# plt.xlim([0.0, 1.0])\n",
    "# plt.ylim([0.0, 1.05])\n",
    "# plt.xlabel('False Positive Rate')\n",
    "# plt.ylabel('True Positive Rate')\n",
    "# plt.title('Receiver operating characteristic example')\n",
    "# plt.legend(loc=\"lower right\")\n",
    "# plt.show()\n",
    "# print(roc_auc_score(y_test, y_pred_bin))\n",
    "\n",
    "# In matplotlib < 1.5, plt.fill_between does not have a 'step' argument\n",
    "step_kwargs = ({'step': 'post'}\n",
    "               if 'step' in signature(plt.fill_between).parameters\n",
    "               else {})\n",
    "plt.step(recall, precision, color='b', alpha=0.2, where='post', label='P-R curve (area = %0.2f)' % auc(recall, precision))\n",
    "plt.fill_between(recall, precision, alpha=0.2, color='b', **step_kwargs)\n",
    "\n",
    "plt.xlabel('Recall')\n",
    "plt.ylabel('Precision')\n",
    "plt.ylim([0.0, 1.05])\n",
    "plt.xlim([0.0, 1.0])\n",
    "plt.legend(loc=\"lower right\")\n",
    "plt.title('2-class Precision-Recall curve: AP={0:0.2f}'.format(average_precision_score(y_test, y_pred_bin)))"
   ]
  }
 ],
 "metadata": {
  "kernelspec": {
   "display_name": "Python 3",
   "language": "python",
   "name": "python3"
  },
  "language_info": {
   "codemirror_mode": {
    "name": "ipython",
    "version": 3
   },
   "file_extension": ".py",
   "mimetype": "text/x-python",
   "name": "python",
   "nbconvert_exporter": "python",
   "pygments_lexer": "ipython3",
   "version": "3.7.1"
  }
 },
 "nbformat": 4,
 "nbformat_minor": 2
}
